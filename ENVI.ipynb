{
 "cells": [
  {
   "cell_type": "markdown",
   "id": "549783f1-9c6b-432c-b22c-aa449497d251",
   "metadata": {},
   "source": [
    "## Initialize Environment"
   ]
  },
  {
   "cell_type": "code",
   "execution_count": 1,
   "id": "a7184ef3-8927-41ca-9101-618dc0fe67a3",
   "metadata": {},
   "outputs": [],
   "source": [
    "! cat bashrc > .bashrc && source .bashrc"
   ]
  },
  {
   "cell_type": "code",
   "execution_count": 2,
   "id": "6b2e6991-3324-441a-9813-ddb9a74eb79d",
   "metadata": {},
   "outputs": [],
   "source": [
    "! cat gitignore > .gitignore"
   ]
  },
  {
   "cell_type": "code",
   "execution_count": null,
   "id": "bf1367f3-bbfc-49ca-ba79-c04f9415a01b",
   "metadata": {},
   "outputs": [],
   "source": []
  }
 ],
 "metadata": {
  "kernelspec": {
   "display_name": "Python 3 (ipykernel)",
   "language": "python",
   "name": "python3"
  },
  "language_info": {
   "codemirror_mode": {
    "name": "ipython",
    "version": 3
   },
   "file_extension": ".py",
   "mimetype": "text/x-python",
   "name": "python",
   "nbconvert_exporter": "python",
   "pygments_lexer": "ipython3",
   "version": "3.7.12"
  }
 },
 "nbformat": 4,
 "nbformat_minor": 5
}
